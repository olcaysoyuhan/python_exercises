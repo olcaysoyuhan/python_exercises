{
 "cells": [
  {
   "cell_type": "code",
   "execution_count": 9,
   "id": "4f9dba81",
   "metadata": {
    "scrolled": true
   },
   "outputs": [],
   "source": [
    "from math import pi, sqrt # added math library to be used in calculations\n",
    "\n",
    "\n",
    "def rlc_impedance_calc(frequency:float, capacitance:float, inductance:float, resistance:float) -> float:\n",
    "\n",
    "    \n",
    "    \"\"\"\n",
    "    Impedance is the resistance of a circuit to alternating current. It is measured in ohms. \n",
    "    To calculate impedance, you must know the values of all resistors and the impedance of all inductors and \n",
    "    capacitors that offer varying amounts of resistance to current depending on how the current changes in \n",
    "    strength, speed, and direction. You can calculate impedance using a simple mathematical formula.\n",
    "    \n",
    "    Definitions and units\n",
    "    ============================\n",
    "    Frequency, f           -> hertz\n",
    "    Capacitance, c         -> farad\n",
    "    Inductance, l          -> henry\n",
    "    Resistance, r          -> ohm\n",
    "    Total RLC impedance, z -> ohm\n",
    "    \n",
    "    \"\"\"\n",
    "    \n",
    "    \n",
    "    f = frequency # variable definitions were made\n",
    "    c = capacitance\n",
    "    l = inductance\n",
    "    r = resistance\n",
    "    \n",
    "    xc = 1 / (2 * pi * f * c) # capacitive reactance\n",
    "\n",
    "    xl = 2 * pi * f * l # inductive reactance\n",
    "\n",
    "    x_total = abs(xl - xc) # total reactance\n",
    "\n",
    "    z = sqrt(pow(r, 2) + pow(x_total, 2)) # rlc impedance \n",
    "\n",
    "    \n",
    "    print(f\"\"\"\\n    The RLC impedance of the series connected circuit whose values you have entered as \n",
    "    {f} hertz, {c} farad, {l} henry and {r} ohm is {z:.2f} ohm.\"\"\")\n",
    "    \n",
    "    "
   ]
  }
 ],
 "metadata": {
  "kernelspec": {
   "display_name": "Python 3 (ipykernel)",
   "language": "python",
   "name": "python3"
  },
  "language_info": {
   "codemirror_mode": {
    "name": "ipython",
    "version": 3
   },
   "file_extension": ".py",
   "mimetype": "text/x-python",
   "name": "python",
   "nbconvert_exporter": "python",
   "pygments_lexer": "ipython3",
   "version": "3.11.5"
  }
 },
 "nbformat": 4,
 "nbformat_minor": 5
}
