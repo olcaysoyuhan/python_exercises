{
 "cells": [
  {
   "cell_type": "code",
   "execution_count": 1,
   "id": "4849959f",
   "metadata": {},
   "outputs": [],
   "source": [
    "def factoriel(decimal: int) -> int:\n",
    "    \"\"\"\n",
    "        Function that calculates factorial\n",
    "        Note : Mathematically only the factorial of positive integers can be calculated\n",
    "    \"\"\"\n",
    "    result = 1\n",
    "    try:\n",
    "        if decimal >= 0:\n",
    "            for i in range(1, decimal+1):\n",
    "                result *= i\n",
    "            print(result)\n",
    "        else:\n",
    "            print(\"undefined\")\n",
    "    except:\n",
    "        print('undefined')\n",
    "        "
   ]
  }
 ],
 "metadata": {
  "kernelspec": {
   "display_name": "Python 3 (ipykernel)",
   "language": "python",
   "name": "python3"
  },
  "language_info": {
   "codemirror_mode": {
    "name": "ipython",
    "version": 3
   },
   "file_extension": ".py",
   "mimetype": "text/x-python",
   "name": "python",
   "nbconvert_exporter": "python",
   "pygments_lexer": "ipython3",
   "version": "3.11.5"
  }
 },
 "nbformat": 4,
 "nbformat_minor": 5
}
