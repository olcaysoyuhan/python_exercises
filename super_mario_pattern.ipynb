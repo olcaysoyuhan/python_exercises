{
 "cells": [
  {
   "cell_type": "code",
   "execution_count": null,
   "id": "141c2aea",
   "metadata": {},
   "outputs": [],
   "source": [
    "\"\"\"\n",
    "Super Mario\n",
    "This program uses the pattern formula in mathematics to create columns of \n",
    "specified height according to the number entered by the user.\n",
    "\"\"\"\n",
    "\n",
    "while True:\n",
    "    pyramid_height = input('Please enter the height of the pyramid [1 - 9] : ')\n",
    "    if pyramid_height != '':\n",
    "        if pyramid_height.isdigit():\n",
    "            pyramid_height = int(pyramid_height)\n",
    "            if 0 < pyramid_height <= 8:\n",
    "                break\n",
    "            print('Please check the entered value')\n",
    "        else:\n",
    "            print('Please enter number')\n",
    "    else:\n",
    "        print('cannot be empty')\n",
    "\n",
    "for i in range(pyramid_height + 1, 0, -1):\n",
    "    print(' ' * i, '#' * ((pyramid_height + 1) - i), '  ',\n",
    "          '#' * ((pyramid_height + 1) - i))\n"
   ]
  }
 ],
 "metadata": {
  "kernelspec": {
   "display_name": "Python 3 (ipykernel)",
   "language": "python",
   "name": "python3"
  },
  "language_info": {
   "codemirror_mode": {
    "name": "ipython",
    "version": 3
   },
   "file_extension": ".py",
   "mimetype": "text/x-python",
   "name": "python",
   "nbconvert_exporter": "python",
   "pygments_lexer": "ipython3",
   "version": "3.11.5"
  }
 },
 "nbformat": 4,
 "nbformat_minor": 5
}
