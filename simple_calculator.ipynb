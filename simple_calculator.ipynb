{
 "cells": [
  {
   "cell_type": "code",
   "execution_count": 1,
   "id": "b9daf374",
   "metadata": {},
   "outputs": [],
   "source": [
    "result = 0\n",
    "\n",
    "class SimpleCalculator:\n",
    "    \"\"\"\n",
    "        Simple 4 operation calculator\n",
    "    \"\"\"\n",
    "    def __init__(self, operation_type: str, *args: float) -> None:\n",
    "        self.operation_type = operation_type\n",
    "        self.args = args \n",
    "        self.result = result\n",
    "        self.set_operations()\n",
    "        \n",
    "    def numbers_sum(self) -> float: # addition\n",
    "        self.result = self.args[0]\n",
    "        for i in self.args[1:]:\n",
    "            self.result += i\n",
    "        return self.result\n",
    "    \n",
    "    def numbers_sub(self) -> float: # subtraction\n",
    "        self.result = self.args[0]\n",
    "        for i in self.args[1:]:\n",
    "            self.result -= i\n",
    "        return self.result\n",
    "    \n",
    "    def numbers_multi(self) -> float: # multiplication\n",
    "        self.result = self.args[0]\n",
    "        for i in self.args[1:]:\n",
    "            self.result *= i\n",
    "        return self.result\n",
    "        \n",
    "    def numbers_div(self) -> float: # division\n",
    "        self.result = self.args[0]\n",
    "        for i in self.args[1:]:\n",
    "            self.result /= i\n",
    "        return self.result\n",
    "    \n",
    "    def set_operations(self) -> None: # transaction type selection\n",
    "        if self.operation_type == 'sum':\n",
    "            self.operation = SimpleCalculator.numbers_sum(self)\n",
    "        elif self.operation_type == 'sub':\n",
    "            self.operation = SimpleCalculator.numbers_sub(self)\n",
    "        elif self.operation_type == 'multi':\n",
    "            self.operation = SimpleCalculator.numbers_multi(self)\n",
    "        else:\n",
    "            self.operation = SimpleCalculator.numbers_div(self)\n",
    "            \n",
    "    def get_result(self) -> None: # action function call by selection\n",
    "        return self.operation\n",
    "        "
   ]
  }
 ],
 "metadata": {
  "kernelspec": {
   "display_name": "Python 3 (ipykernel)",
   "language": "python",
   "name": "python3"
  },
  "language_info": {
   "codemirror_mode": {
    "name": "ipython",
    "version": 3
   },
   "file_extension": ".py",
   "mimetype": "text/x-python",
   "name": "python",
   "nbconvert_exporter": "python",
   "pygments_lexer": "ipython3",
   "version": "3.11.5"
  }
 },
 "nbformat": 4,
 "nbformat_minor": 5
}
