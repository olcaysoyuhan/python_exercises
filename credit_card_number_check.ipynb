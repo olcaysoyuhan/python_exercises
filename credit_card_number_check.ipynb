{
 "cells": [
  {
   "cell_type": "code",
   "execution_count": 6,
   "id": "7e3682dd",
   "metadata": {},
   "outputs": [],
   "source": [
    "\"\"\"\n",
    "The Luhn algorithm, also known as the \"mod 10\" algorithm, \n",
    "named after its creator,IBM scientist Hans Peter Luhn, \n",
    "is a simple check digit formula used to validate a variety of \n",
    "identification numbers.\n",
    "\"\"\"\n",
    "def credit_card_check() -> str: # Checking the accuracy of the card number\n",
    "    \"\"\"    \n",
    "    Description\n",
    "    ===========\n",
    "    Step 1: Starting from the rightmost check digit value,we multiply the \n",
    "    1st, 3rd, 5th values to the left by 2.\n",
    "    Step 2: If the sum of the values is greater than 9, we add the digits and \n",
    "    find the sum of the digits.\n",
    "    Step 3: All final figures are added together.If the total is \n",
    "    a multiple of 10, the relevant card number is valid.\n",
    "    \"\"\"\n",
    "    while True:\n",
    "        # card number entry and format control\n",
    "        card_number = input('Enter credit card number (press \"q\" to exit): ')\n",
    "        card_number = card_number.replace(' ', '')\n",
    "        number_reverse_list = []\n",
    "        entry_isdigit = card_number.isdigit\n",
    "        even_number_total = 0\n",
    "        if card_number.lower() =='q':\n",
    "            break\n",
    "        if  entry_isdigit and (len(card_number) >= 14\n",
    "                               or len(card_number) <= 16):\n",
    "            for number in card_number:\n",
    "                number_reverse_list.insert(0, int(number))\n",
    "            # sum of odd row numbers\n",
    "            odd_number_total = sum(number_reverse_list[::2])\n",
    "            # Finding and adding ones and tens digits of even row numbers\n",
    "            for number in number_reverse_list[1::2]:\n",
    "                even_number_total += (number * 2) % 10 + (number * 2) // 10\n",
    "            # The mod 10 of the sum of all numbers is taken\n",
    "            # the accuracy is checked.\n",
    "            if (odd_number_total + even_number_total) % 10 == 0:\n",
    "                provider = provider_check(card_number)\n",
    "                print(f'Card number {card_number} is a valid {provider}.')\n",
    "            else:\n",
    "                print(f'Card number {card_number} is invalid.')\n",
    "        else:\n",
    "            print('You entered the wrong card number!')\n",
    "def provider_check(card_number: str) -> str:\n",
    "    \"\"\"\n",
    "    Thanks to BIN/IIN (card association) lists, credit cards, debit cards and \n",
    "    prepaid cards can be distinguished. This function searches \n",
    "    the payment provider code list and identifies the card issuer.\n",
    "    \"\"\"\n",
    "    payment_provider_codes = {\n",
    "                              'master card' : [5555, 2222, 2223, 5100, 5103],\n",
    "                              'maestro' : [6771],\n",
    "                              'jcb' : [3569],\n",
    "                              'discovery' : [6011, 6445],\n",
    "                              'diners' : [3600, 3607],\n",
    "                              'american express' : [3700],\n",
    "                              'elo' : [5066],\n",
    "                              'union pay' : [8171, 6243],\n",
    "                              'visa' : [4]\n",
    "                              }\n",
    "    # Determining service provider from payment provider codes\n",
    "    for providers, codes in payment_provider_codes.items():\n",
    "        for code in codes:\n",
    "            if int(card_number[:1]) == code or int(card_number[:4]) == code:\n",
    "                return providers\n",
    "    return 'payment not found'\n"
   ]
  },
  {
   "cell_type": "code",
   "execution_count": null,
   "id": "3f563d99",
   "metadata": {},
   "outputs": [
    {
     "name": "stdout",
     "output_type": "stream",
     "text": [
      "Enter credit card number (press \"q\" to exit): 3569 9900 1009 5841\n",
      "Card number 3569990010095841 is a valid jcb.\n"
     ]
    }
   ],
   "source": [
    "credit_card_check()"
   ]
  },
  {
   "cell_type": "code",
   "execution_count": null,
   "id": "99f3d88c",
   "metadata": {},
   "outputs": [],
   "source": []
  }
 ],
 "metadata": {
  "kernelspec": {
   "display_name": "Python 3 (ipykernel)",
   "language": "python",
   "name": "python3"
  },
  "language_info": {
   "codemirror_mode": {
    "name": "ipython",
    "version": 3
   },
   "file_extension": ".py",
   "mimetype": "text/x-python",
   "name": "python",
   "nbconvert_exporter": "python",
   "pygments_lexer": "ipython3",
   "version": "3.11.5"
  }
 },
 "nbformat": 4,
 "nbformat_minor": 5
}
