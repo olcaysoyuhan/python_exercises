{
 "cells": [
  {
   "cell_type": "code",
   "execution_count": 1,
   "id": "a2e63bf1",
   "metadata": {},
   "outputs": [],
   "source": [
    "import random\n",
    "\n",
    "\n",
    "def random_id_number_generate() -> int:\n",
    "    \"\"\"\n",
    "    Function does not take input value\n",
    "    \n",
    "    Algorithm steps\n",
    "    ===============\n",
    "    \n",
    "    1 - The first digit cannot be 0.\n",
    "    2 - When the sum of the 2nd, 4th, 6th and 8th digits is subtracted from 7 times the sum of the \n",
    "      1st, 3rd, 5th, 7th and 9th digits of the identification numbers, the result is divided by 10,\n",
    "      returns the 10th digit.\n",
    "    3 - The remainder obtained from the sum of the 1st, 2nd, 3rd, 4th, 5th, 6th, 7th, 8th, 9th and 10th \n",
    "      digits divided by 10 gives the 11th digit.\n",
    "    \"\"\"\n",
    "    \n",
    "    number_list = []\n",
    "    id_number = ''\n",
    "    \n",
    "    while True:\n",
    "        # Loop set up to get 11 digits\n",
    "        # Random numbers between 0 and 9 were added to the list\n",
    "        for i in range(11): \n",
    "            number_list.append(random.randint(0, 9)) \n",
    "        \n",
<<<<<<< HEAD
    "        for i in range(11): # Loop set up to get 11 digits\n",
    "            number_list.append(random.randint(0, 9)) # Random numbers between 0 and 9 were added to the list\n",
    "        \n",
    "        if number_list[0] == 0: # Checked if the first digit is 0 (step 1)\n",
=======
    "        # Checked if the first digit is 0 (step 1)\n",
    "        if number_list[0] == 0: \n",
>>>>>>> 5a915c3 (README.md and random_id_number_generate updated)
    "            number_list.clear() \n",
    "        # 10th digit check (step 2)    \n",
    "        elif number_list[9] !=((sum(number_list[0:10:2]) * 7)\n",
    "                                - (sum(number_list[1:9:2]))) % 10: \n",
    "                                number_list.clear() \n",
    "        # last digit check (step 3)\n",
    "        elif number_list[10] != (sum(number_list[0:10]) % 10): \n",
    "            number_list.clear() \n",
    "        # the resulting identification number was returned  \n",
    "        else: \n",
    "            for i in number_list:\n",
    "                id_number += str(i)\n",
    "            return int(id_number)\n",
    "            break\n"
   ]
  }
 ],
 "metadata": {
  "kernelspec": {
   "display_name": "Python 3 (ipykernel)",
   "language": "python",
   "name": "python3"
  },
  "language_info": {
   "codemirror_mode": {
    "name": "ipython",
    "version": 3
   },
   "file_extension": ".py",
   "mimetype": "text/x-python",
   "name": "python",
   "nbconvert_exporter": "python",
   "pygments_lexer": "ipython3",
   "version": "3.11.5"
  }
 },
 "nbformat": 4,
 "nbformat_minor": 5
}
