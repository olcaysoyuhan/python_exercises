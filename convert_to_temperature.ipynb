{
 "cells": [
  {
   "cell_type": "code",
   "execution_count": 1,
   "id": "dc9f6e18",
   "metadata": {
    "scrolled": true
   },
   "outputs": [],
   "source": [
    "class Convert_To_Temperature:\n",
    "    \n",
    "    \"\"\"\n",
    "    \n",
    "    Program that converts the entered value to different temperatures.\n",
    "    \n",
    "    Using :\n",
    "    =======\n",
    "    \n",
    "    Create and assign a Convert_To_Temperature object and select the output type from its modules.\n",
    "    \n",
    "    \n",
    "    >> kelvin = Convert_To_Temperature(30)\n",
    "    >> kelvin.celcius_to_kelvin()\n",
    "    >> 303.15\n",
    "    \n",
    "    \n",
    "    \"\"\"\n",
    "    \n",
    "    def __init__(self, arg):\n",
    "        self.arg = arg\n",
    "        \n",
    "    def celcius_to_fahrenheit(self):\n",
    "        print(self.arg * 1.8 + 32, end = ' F')\n",
    "        \n",
    "    def fahrenheit_to_celcius(self):\n",
    "        print((self.arg - 32) / 1.8, end = ' C')\n",
    "        \n",
    "    def celcius_to_kelvin(self):\n",
    "        print(self.arg + 273.15, end = ' K')\n",
    "        \n",
    "    def kelvin_to_celcius(self):\n",
    "        print(self.arg - 273.15, end = ' C')"
   ]
  },
  {
   "cell_type": "code",
   "execution_count": null,
   "id": "6a0930bf",
   "metadata": {},
   "outputs": [],
   "source": []
  }
 ],
 "metadata": {
  "kernelspec": {
   "display_name": "Python 3 (ipykernel)",
   "language": "python",
   "name": "python3"
  },
  "language_info": {
   "codemirror_mode": {
    "name": "ipython",
    "version": 3
   },
   "file_extension": ".py",
   "mimetype": "text/x-python",
   "name": "python",
   "nbconvert_exporter": "python",
   "pygments_lexer": "ipython3",
   "version": "3.11.5"
  }
 },
 "nbformat": 4,
 "nbformat_minor": 5
}
