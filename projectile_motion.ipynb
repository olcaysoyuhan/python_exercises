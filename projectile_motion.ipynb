{
 "cells": [
  {
   "cell_type": "code",
   "execution_count": 1,
   "id": "99656597",
   "metadata": {},
   "outputs": [],
   "source": [
    "from math import sin, sqrt, cos, radians\n",
    "\n",
    "\n",
    "class ProjectileMotion:\n",
    "    \"\"\"\n",
    "    \n",
    "    Projectile motion is the motion of an object thrown (projected) into the air when, \n",
    "    after the initial force that launches the object, \n",
    "    air resistance is negligible and the only other force that object experiences is the force of gravity. \n",
    "    The object is called a projectile, and its path is called its trajectory.\n",
    "    \n",
    "    \"\"\"\n",
    "    \n",
    "    def __init__(self, initial_velocity, launch_angle, gravity = 9.81):\n",
    "        self.initial_velocity = initial_velocity\n",
    "        self.launch_angle = launch_angle\n",
    "        self.gravity = gravity\n",
    "    \n",
    "    def max_flight_time(self) -> str: \n",
    "        \"\"\"\n",
    "        This function calculates flight time of the object.\n",
    "        No input parameters.\n",
    "        Returns string : Definition of flight time.\n",
    "        \"\"\"\n",
    "        max_flight_time = abs(2 * (self.initial_velocity * sin(radians(self.launch_angle)) / self.gravity)) \n",
    "        return f\"Time of flight {max_flight_time:.4f}\"\n",
    "             \n",
    "    def max_height(self) -> str: \n",
    "        \"\"\"\n",
    "        This function calculates maximum height of the object.\n",
    "        No input parameters.\n",
    "        Returns string : Definition of flight time.\n",
    "        \"\"\"\n",
    "        max_height = pow(self.initial_velocity * sin(radians(self.launch_angle)), 2) / (2 * self.gravity)\n",
    "        return f\"Maximum height of projectile {max_height:.4f}\"\n",
    "        \n",
    "    def horizontal_range(self) -> str:\n",
    "        \"\"\"\n",
    "        This function calculates horizontal range of the object.\n",
    "        No input parameters.\n",
    "        Returns string : Definition of flight time.\n",
    "        \"\"\"\n",
    "        horizontal_range = (pow(self.initial_velocity, 2) * \n",
    "                           (2 * sin(radians(self.launch_angle)) * cos(radians(self.launch_angle)))) / self.gravity \n",
    "        return f\"Maximum horizontal range {horizontal_range:.4f}\"\n"
   ]
  }
 ],
 "metadata": {
  "kernelspec": {
   "display_name": "Python 3 (ipykernel)",
   "language": "python",
   "name": "python3"
  },
  "language_info": {
   "codemirror_mode": {
    "name": "ipython",
    "version": 3
   },
   "file_extension": ".py",
   "mimetype": "text/x-python",
   "name": "python",
   "nbconvert_exporter": "python",
   "pygments_lexer": "ipython3",
   "version": "3.11.5"
  }
 },
 "nbformat": 4,
 "nbformat_minor": 5
}
