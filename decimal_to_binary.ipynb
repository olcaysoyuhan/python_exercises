{
 "cells": [
  {
   "cell_type": "code",
   "execution_count": 1,
   "id": "cf79ecbd",
   "metadata": {},
   "outputs": [],
   "source": [
    "def decimal_to_binary(arg : int) -> int:\n",
    "    \n",
    "    decimal = arg\n",
    "    cache_binary = []\n",
    "    \n",
    "    while (decimal // 2 != 0):\n",
    "        if decimal % 2 == 1:\n",
    "            cache_binary.append(1)\n",
    "        else:\n",
    "            cache_binary.append(0)\n",
    "        decimal = decimal // 2\n",
    "    cache_binary.append(decimal)\n",
    "    \n",
    "    for binary in cache_binary[::-1]:\n",
    "        print(binary, end='')"
   ]
  }
 ],
 "metadata": {
  "kernelspec": {
   "display_name": "Python 3 (ipykernel)",
   "language": "python",
   "name": "python3"
  },
  "language_info": {
   "codemirror_mode": {
    "name": "ipython",
    "version": 3
   },
   "file_extension": ".py",
   "mimetype": "text/x-python",
   "name": "python",
   "nbconvert_exporter": "python",
   "pygments_lexer": "ipython3",
   "version": "3.11.5"
  }
 },
 "nbformat": 4,
 "nbformat_minor": 5
}
